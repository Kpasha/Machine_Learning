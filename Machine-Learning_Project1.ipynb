{
 "cells": [
  {
   "cell_type": "code",
   "execution_count": 3,
   "metadata": {
    "collapsed": true
   },
   "outputs": [],
   "source": [
    "from sklearn import datasets"
   ]
  },
  {
   "cell_type": "markdown",
   "metadata": {},
   "source": [
    "### Load the modules that will be used"
   ]
  },
  {
   "cell_type": "code",
   "execution_count": 5,
   "metadata": {},
   "outputs": [],
   "source": [
    "import pandas as pd\n",
    "import numpy as np\n",
    "import matplotlib.pyplot as plt\n",
    "plt.style.use('ggplot')"
   ]
  },
  {
   "cell_type": "markdown",
   "metadata": {},
   "source": [
    "### Read in the necessary datasets"
   ]
  },
  {
   "cell_type": "code",
   "execution_count": 10,
   "metadata": {},
   "outputs": [],
   "source": [
    "iris = pd.read_csv(\"iris_data.csv\", header = None)\n",
    "canc = pd.read_csv(\"breast-cancer-wisconsin_data.csv\", header = None)\n",
    "glas = pd.read_csv(\"glass_data.csv\", header = None)\n",
    "vote = pd.read_csv(\"house-votes-84_data.csv\", header = None)\n",
    "soyb = pd.read_csv(\"soybean-small_data.csv\", header = None)"
   ]
  },
  {
   "cell_type": "markdown",
   "metadata": {},
   "source": [
    "### Add in the headers"
   ]
  },
  {
   "cell_type": "code",
   "execution_count": 21,
   "metadata": {
    "collapsed": true
   },
   "outputs": [],
   "source": [
    "iris.columns = ['sepal_length', 'sepal_width', 'petal_length', 'petal_width', 'species']"
   ]
  },
  {
   "cell_type": "code",
   "execution_count": 33,
   "metadata": {
    "collapsed": true
   },
   "outputs": [],
   "source": [
    "canc.columns = ['ID', 'Clump_Thickness', 'Uniformity_of_Cell_Size', 'Uniformity_of_Cell_Shape', \n",
    "                     'Marginal_Adhesion', 'Single_Epithelial_Cell_Size', 'Bare_Nuclei', \n",
    "                     'Bland_Chromatin', 'Normal_Nucleoli', 'Mitoses', 'Class']"
   ]
  },
  {
   "cell_type": "code",
   "execution_count": 36,
   "metadata": {},
   "outputs": [],
   "source": [
    "my_string =\"Idnumber, RI, Na, Mg, Al, Si, K, Ca, Ba, Fe, Typeofglass\"\n",
    "glas_names = [x.strip() for x in my_string.split(',')]"
   ]
  },
  {
   "cell_type": "code",
   "execution_count": 37,
   "metadata": {},
   "outputs": [],
   "source": [
    "glas.columns = [glas_names]"
   ]
  },
  {
   "cell_type": "code",
   "execution_count": 25,
   "metadata": {
    "collapsed": true
   },
   "outputs": [],
   "source": [
    "my_string = \"Class-Name, handicapped-infants, water-project-cost-sharing, adoption-of-the-budget-resolution, physician-fee-freeze, el-salvador-aid, religious-groups-in-schools, anti-satellite-test-ban, aid-to-nicaraguan-contras, mx-missile, immigration, synfuels-corporation-cutback, education-spending, superfund-right-to-sue, crime, duty-free-exports, export-administration-act-south-africa\"\n",
    "vote_names = [x.strip() for x in my_string.split(',')]"
   ]
  },
  {
   "cell_type": "code",
   "execution_count": 26,
   "metadata": {
    "collapsed": true
   },
   "outputs": [],
   "source": [
    "vote.columns = [vote_names]"
   ]
  },
  {
   "cell_type": "code",
   "execution_count": 40,
   "metadata": {
    "collapsed": true
   },
   "outputs": [],
   "source": [
    "my_string = \"date, plant-stand, precip, temp, hail, crop-hist, area-damaged, severity, seed-tmt, germination, plant-growth, leaves, leafspots-halo, leafspots-marg, leafspot-size, leaf-shread, leaf-malf, leaf-mild, stem, lodging, stem-cankers, canker-lesion, fruiting-bodies, external decay, mycelium, int-discolor, sclerotia, fruit-pods, fruit-spots, seed, mold-growth, seed-discolor, seed-size, shriveling, roots, class\"\n",
    "soyb_names = [x.strip() for x in my_string.split(',')]"
   ]
  },
  {
   "cell_type": "code",
   "execution_count": 41,
   "metadata": {},
   "outputs": [],
   "source": [
    "soyb.columns = [soyb_names]"
   ]
  },
  {
   "cell_type": "code",
   "execution_count": 38,
   "metadata": {},
   "outputs": [
    {
     "name": "stdout",
     "output_type": "stream",
     "text": [
      "<class 'pandas.core.frame.DataFrame'>\n",
      "RangeIndex: 214 entries, 0 to 213\n",
      "Data columns (total 11 columns):\n",
      "Idnumber       214 non-null int64\n",
      "RI             214 non-null float64\n",
      "Na             214 non-null float64\n",
      "Mg             214 non-null float64\n",
      "Al             214 non-null float64\n",
      "Si             214 non-null float64\n",
      "K              214 non-null float64\n",
      "Ca             214 non-null float64\n",
      "Ba             214 non-null float64\n",
      "Fe             214 non-null float64\n",
      "Typeofglass    214 non-null int64\n",
      "dtypes: float64(9), int64(2)\n",
      "memory usage: 18.5 KB\n"
     ]
    }
   ],
   "source": [
    "glas.info()"
   ]
  },
  {
   "cell_type": "code",
   "execution_count": 42,
   "metadata": {},
   "outputs": [
    {
     "name": "stdout",
     "output_type": "stream",
     "text": [
      "<class 'pandas.core.frame.DataFrame'>\n",
      "RangeIndex: 47 entries, 0 to 46\n",
      "Data columns (total 36 columns):\n",
      "date               47 non-null int64\n",
      "plant-stand        47 non-null int64\n",
      "precip             47 non-null int64\n",
      "temp               47 non-null int64\n",
      "hail               47 non-null int64\n",
      "crop-hist          47 non-null int64\n",
      "area-damaged       47 non-null int64\n",
      "severity           47 non-null int64\n",
      "seed-tmt           47 non-null int64\n",
      "germination        47 non-null int64\n",
      "plant-growth       47 non-null int64\n",
      "leaves             47 non-null int64\n",
      "leafspots-halo     47 non-null int64\n",
      "leafspots-marg     47 non-null int64\n",
      "leafspot-size      47 non-null int64\n",
      "leaf-shread        47 non-null int64\n",
      "leaf-malf          47 non-null int64\n",
      "leaf-mild          47 non-null int64\n",
      "stem               47 non-null int64\n",
      "lodging            47 non-null int64\n",
      "stem-cankers       47 non-null int64\n",
      "canker-lesion      47 non-null int64\n",
      "fruiting-bodies    47 non-null int64\n",
      "external decay     47 non-null int64\n",
      "mycelium           47 non-null int64\n",
      "int-discolor       47 non-null int64\n",
      "sclerotia          47 non-null int64\n",
      "fruit-pods         47 non-null int64\n",
      "fruit-spots        47 non-null int64\n",
      "seed               47 non-null int64\n",
      "mold-growth        47 non-null int64\n",
      "seed-discolor      47 non-null int64\n",
      "seed-size          47 non-null int64\n",
      "shriveling         47 non-null int64\n",
      "roots              47 non-null int64\n",
      "class              47 non-null object\n",
      "dtypes: int64(35), object(1)\n",
      "memory usage: 13.3+ KB\n"
     ]
    }
   ],
   "source": [
    "soyb.info()"
   ]
  },
  {
   "cell_type": "code",
   "execution_count": 16,
   "metadata": {},
   "outputs": [
    {
     "data": {
      "text/plain": [
       "Int64Index([ 0,  1,  2,  3,  4,  5,  6,  7,  8,  9, 10, 11, 12, 13, 14, 15, 16,\n",
       "            17, 18, 19, 20, 21, 22, 23, 24, 25, 26, 27, 28, 29, 30, 31, 32, 33,\n",
       "            34, 35],\n",
       "           dtype='int64')"
      ]
     },
     "execution_count": 16,
     "metadata": {},
     "output_type": "execute_result"
    }
   ],
   "source": [
    "soyb.columns"
   ]
  },
  {
   "cell_type": "code",
   "execution_count": null,
   "metadata": {
    "collapsed": true
   },
   "outputs": [],
   "source": []
  }
 ],
 "metadata": {
  "kernelspec": {
   "display_name": "Python [conda root]",
   "language": "python",
   "name": "conda-root-py"
  },
  "language_info": {
   "codemirror_mode": {
    "name": "ipython",
    "version": 3
   },
   "file_extension": ".py",
   "mimetype": "text/x-python",
   "name": "python",
   "nbconvert_exporter": "python",
   "pygments_lexer": "ipython3",
   "version": "3.5.3"
  }
 },
 "nbformat": 4,
 "nbformat_minor": 2
}
